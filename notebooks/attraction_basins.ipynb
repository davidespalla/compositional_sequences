{
 "cells": [
  {
   "cell_type": "code",
   "execution_count": 68,
   "metadata": {},
   "outputs": [],
   "source": [
    "import sys\n",
    "sys.path.append(\"../\")\n",
    "import PatternStructure as ps\n",
    "import AssociativeNetwork as nt\n",
    "import functions as fs\n",
    "from pathlib import Path\n",
    "import numpy as np\n",
    "import matplotlib.pyplot as plt\n",
    "import seaborn as sns\n",
    "import networkx as nx\n",
    "import pandas as pd\n",
    "from tqdm import tqdm\n",
    "sns.set(style='white',font_scale=1.5)"
   ]
  },
  {
   "cell_type": "code",
   "execution_count": 71,
   "metadata": {},
   "outputs": [],
   "source": [
    "# PARAMETERS\n",
    "GAMMA = 0.5\n",
    "XI = 0.1\n",
    "N_CELLS = 1000\n",
    "N_PATTERNS = [2,3,4,5,6,7,8,9,10]\n",
    "CELLS_PER_PATTERN = 250\n",
    "N_CHAINS = 0 # M\n",
    "PATTERNS_PER_CHAIN = 0 # Q\n",
    "N_RUNS = 20 # of runs for the number of patterns\n",
    "N_STEPS = 200 \n",
    "DYNAMIC_SPARISTY = .3*(CELLS_PER_PATTERN/N_CELLS)\n"
   ]
  },
  {
   "cell_type": "code",
   "execution_count": 72,
   "metadata": {},
   "outputs": [],
   "source": [
    "def simulate_random():\n",
    "\n",
    "    CO = []\n",
    "    RQ = []\n",
    "    MO = []\n",
    "\n",
    "\n",
    "    for NP in N_PATTERNS:\n",
    "        print(f'Computing N_PATTERNS={NP} ...')\n",
    "\n",
    "        co = []\n",
    "        rq = []\n",
    "        mo = []\n",
    "\n",
    "        #Memory structure\n",
    "        kernel = ps.InteractionKernel(gamma=GAMMA,xi=XI)\n",
    "        memories = ps.PatternStructure(n_cells=N_CELLS,\n",
    "                                    n_patterns=NP,\n",
    "                                    cells_per_pattern=CELLS_PER_PATTERN,\n",
    "                                    n_chains=N_CHAINS,\n",
    "                                    patterns_per_chain=PATTERNS_PER_CHAIN,\n",
    "                                    periodic_chains=True,\n",
    "                                    kernel=kernel)\n",
    "\n",
    "\n",
    "        memories.generate_patterns()\n",
    "        memories.generate_chains()\n",
    "        memories.build_interactions()\n",
    "\n",
    "        for i in tqdm(range(N_RUNS)):\n",
    "\n",
    "            net = nt.Network(J=memories.interaction_matrix, \n",
    "                        transfer_func=nt.ReLu,\n",
    "                        dynamic_func=nt.net_dynamics)\n",
    "\n",
    "            initial_config = np.random.uniform(size=N_CELLS)\n",
    "            initial_config = initial_config/np.mean(initial_config)\n",
    "            net.run_dynamics(initial_config,n_steps=N_STEPS,sparsity=DYNAMIC_SPARISTY)\n",
    "\n",
    "            coherence = fs.coherence_timecourse(memories,net.history)\n",
    "            retrieval_quality = fs.compute_retrieval_quality(coherence)\n",
    "            max_steady_overlap = np.max(np.mean(coherence[:,N_STEPS//10:],axis=-1))\n",
    "\n",
    "            co.append(coherence)\n",
    "            rq.append(retrieval_quality)\n",
    "            mo.append(max_steady_overlap)\n",
    "\n",
    "        CO.append(np.asarray(co))\n",
    "        RQ.append(np.asarray(rq))\n",
    "        MO.append(np.asarray(mo))\n",
    "    \n",
    "    return CO,RQ,MO\n",
    "\n",
    "\n",
    "def simulate_correlated():\n",
    "\n",
    "    CO = []\n",
    "    RQ = []\n",
    "    MO = []\n",
    "\n",
    "\n",
    "    for NP in N_PATTERNS:\n",
    "        print(f'Computing N_PATTERNS={NP} ...')\n",
    "\n",
    "        co = []\n",
    "        rq = []\n",
    "        mo = []\n",
    "\n",
    "        #Memory structure\n",
    "        kernel = ps.InteractionKernel(gamma=GAMMA,xi=XI)\n",
    "        memories = ps.PatternStructure(n_cells=N_CELLS,\n",
    "                                    n_patterns=NP,\n",
    "                                    cells_per_pattern=CELLS_PER_PATTERN,\n",
    "                                    n_chains=N_CHAINS,\n",
    "                                    patterns_per_chain=PATTERNS_PER_CHAIN,\n",
    "                                    periodic_chains=True,\n",
    "                                    kernel=kernel)\n",
    "\n",
    "\n",
    "        memories.generate_patterns()\n",
    "        memories.generate_chains()\n",
    "        memories.build_interactions()\n",
    "\n",
    "        for i in tqdm(range(N_RUNS)):\n",
    "\n",
    "            net = nt.Network(J=memories.interaction_matrix, \n",
    "                        transfer_func=nt.ReLu,\n",
    "                        dynamic_func=nt.net_dynamics)\n",
    "\n",
    "            initial_config = ps.build_correlated_activity(memories,0,position=0.1)\n",
    "            initial_config = initial_config/np.mean(initial_config)\n",
    "            net.run_dynamics(initial_config,n_steps=N_STEPS,sparsity=DYNAMIC_SPARISTY)\n",
    "\n",
    "            coherence = fs.coherence_timecourse(memories,net.history)\n",
    "            retrieval_quality = fs.compute_retrieval_quality(coherence)\n",
    "            max_steady_overlap = np.max(np.mean(coherence[:,N_STEPS//10:],axis=-1))\n",
    "\n",
    "            co.append(coherence)\n",
    "            rq.append(retrieval_quality)\n",
    "            mo.append(max_steady_overlap)\n",
    "\n",
    "        CO.append(np.asarray(co))\n",
    "        RQ.append(np.asarray(rq))\n",
    "        MO.append(np.asarray(mo))\n",
    "    \n",
    "    return CO,RQ,MO\n",
    "\n",
    "\n",
    "\n",
    "    "
   ]
  },
  {
   "cell_type": "code",
   "execution_count": 73,
   "metadata": {},
   "outputs": [
    {
     "name": "stdout",
     "output_type": "stream",
     "text": [
      "Computing random ...\n",
      "Computing N_PATTERNS=2 ...\n"
     ]
    },
    {
     "name": "stderr",
     "output_type": "stream",
     "text": [
      "100%|██████████| 20/20 [00:05<00:00,  3.51it/s]\n"
     ]
    },
    {
     "name": "stdout",
     "output_type": "stream",
     "text": [
      "Computing N_PATTERNS=3 ...\n"
     ]
    },
    {
     "name": "stderr",
     "output_type": "stream",
     "text": [
      "100%|██████████| 20/20 [00:06<00:00,  3.08it/s]\n"
     ]
    },
    {
     "name": "stdout",
     "output_type": "stream",
     "text": [
      "Computing N_PATTERNS=4 ...\n"
     ]
    },
    {
     "name": "stderr",
     "output_type": "stream",
     "text": [
      "100%|██████████| 20/20 [00:07<00:00,  2.66it/s]\n"
     ]
    },
    {
     "name": "stdout",
     "output_type": "stream",
     "text": [
      "Computing N_PATTERNS=5 ...\n"
     ]
    },
    {
     "name": "stderr",
     "output_type": "stream",
     "text": [
      "100%|██████████| 20/20 [00:07<00:00,  2.51it/s]\n"
     ]
    },
    {
     "name": "stdout",
     "output_type": "stream",
     "text": [
      "Computing N_PATTERNS=6 ...\n"
     ]
    },
    {
     "name": "stderr",
     "output_type": "stream",
     "text": [
      "100%|██████████| 20/20 [00:09<00:00,  2.15it/s]\n"
     ]
    },
    {
     "name": "stdout",
     "output_type": "stream",
     "text": [
      "Computing N_PATTERNS=7 ...\n"
     ]
    },
    {
     "name": "stderr",
     "output_type": "stream",
     "text": [
      "100%|██████████| 20/20 [00:10<00:00,  1.85it/s]\n"
     ]
    },
    {
     "name": "stdout",
     "output_type": "stream",
     "text": [
      "Computing N_PATTERNS=8 ...\n"
     ]
    },
    {
     "name": "stderr",
     "output_type": "stream",
     "text": [
      "100%|██████████| 20/20 [00:12<00:00,  1.66it/s]\n"
     ]
    },
    {
     "name": "stdout",
     "output_type": "stream",
     "text": [
      "Computing N_PATTERNS=9 ...\n"
     ]
    },
    {
     "name": "stderr",
     "output_type": "stream",
     "text": [
      "100%|██████████| 20/20 [00:12<00:00,  1.61it/s]\n"
     ]
    },
    {
     "name": "stdout",
     "output_type": "stream",
     "text": [
      "Computing N_PATTERNS=10 ...\n"
     ]
    },
    {
     "name": "stderr",
     "output_type": "stream",
     "text": [
      "100%|██████████| 20/20 [00:13<00:00,  1.46it/s]\n"
     ]
    },
    {
     "name": "stdout",
     "output_type": "stream",
     "text": [
      "Computing correlated ...\n",
      "Computing N_PATTERNS=2 ...\n"
     ]
    },
    {
     "name": "stderr",
     "output_type": "stream",
     "text": [
      "100%|██████████| 20/20 [00:05<00:00,  3.67it/s]\n"
     ]
    },
    {
     "name": "stdout",
     "output_type": "stream",
     "text": [
      "Computing N_PATTERNS=3 ...\n"
     ]
    },
    {
     "name": "stderr",
     "output_type": "stream",
     "text": [
      "100%|██████████| 20/20 [00:06<00:00,  3.07it/s]\n"
     ]
    },
    {
     "name": "stdout",
     "output_type": "stream",
     "text": [
      "Computing N_PATTERNS=4 ...\n"
     ]
    },
    {
     "name": "stderr",
     "output_type": "stream",
     "text": [
      "100%|██████████| 20/20 [00:08<00:00,  2.50it/s]\n"
     ]
    },
    {
     "name": "stdout",
     "output_type": "stream",
     "text": [
      "Computing N_PATTERNS=5 ...\n"
     ]
    },
    {
     "name": "stderr",
     "output_type": "stream",
     "text": [
      "100%|██████████| 20/20 [00:08<00:00,  2.28it/s]\n"
     ]
    },
    {
     "name": "stdout",
     "output_type": "stream",
     "text": [
      "Computing N_PATTERNS=6 ...\n"
     ]
    },
    {
     "name": "stderr",
     "output_type": "stream",
     "text": [
      "100%|██████████| 20/20 [00:10<00:00,  1.99it/s]\n"
     ]
    },
    {
     "name": "stdout",
     "output_type": "stream",
     "text": [
      "Computing N_PATTERNS=7 ...\n"
     ]
    },
    {
     "name": "stderr",
     "output_type": "stream",
     "text": [
      "100%|██████████| 20/20 [00:10<00:00,  1.82it/s]\n"
     ]
    },
    {
     "name": "stdout",
     "output_type": "stream",
     "text": [
      "Computing N_PATTERNS=8 ...\n"
     ]
    },
    {
     "name": "stderr",
     "output_type": "stream",
     "text": [
      "100%|██████████| 20/20 [00:11<00:00,  1.71it/s]\n"
     ]
    },
    {
     "name": "stdout",
     "output_type": "stream",
     "text": [
      "Computing N_PATTERNS=9 ...\n"
     ]
    },
    {
     "name": "stderr",
     "output_type": "stream",
     "text": [
      "100%|██████████| 20/20 [00:12<00:00,  1.61it/s]\n"
     ]
    },
    {
     "name": "stdout",
     "output_type": "stream",
     "text": [
      "Computing N_PATTERNS=10 ...\n"
     ]
    },
    {
     "name": "stderr",
     "output_type": "stream",
     "text": [
      "100%|██████████| 20/20 [00:13<00:00,  1.43it/s]\n"
     ]
    }
   ],
   "source": [
    "print('Computing random ...')\n",
    "rand_results = simulate_random()\n",
    "print('Computing correlated ...')\n",
    "corr_results = simulate_correlated()\n"
   ]
  },
  {
   "cell_type": "code",
   "execution_count": 75,
   "metadata": {},
   "outputs": [],
   "source": [
    "retrieval_th = 1\n",
    "\n",
    "def compute_curves(results):\n",
    "    MO = results[-1]\n",
    "\n",
    "    ret_prob = []\n",
    "    mean_ov = []\n",
    "    std_ov = []\n",
    "\n",
    "    for mo in MO:\n",
    "        ret_prob.append(np.sum(mo>retrieval_th)/len(mo))\n",
    "        mean_ov.append(np.mean(mo))\n",
    "        std_ov.append(np.std(mo))\n",
    "\n",
    "    ret_prob = np.asarray(ret_prob)\n",
    "    mean_ov = np.asarray(mean_ov)\n",
    "    std_ov = np.asarray(std_ov)\n",
    "    \n",
    "    return ret_prob,mean_ov,std_ov\n",
    "\n",
    "\n",
    "rp_rand,mo_rand,std_rand = compute_curves(rand_results)\n",
    "rp_corr,mo_corr,std_corr = compute_curves(corr_results)"
   ]
  },
  {
   "cell_type": "code",
   "execution_count": 84,
   "metadata": {},
   "outputs": [
    {
     "data": {
      "image/png": "[encoded data removed]",
      "text/plain": [
       "<Figure size 720x360 with 2 Axes>"
      ]
     },
     "metadata": {},
     "output_type": "display_data"
    }
   ],
   "source": [
    "plt.figure(figsize=(10,5))\n",
    "plt.subplot(1,2,1)\n",
    "plt.plot(N_PATTERNS,rp_rand,label='random')\n",
    "plt.plot(N_PATTERNS,rp_corr,label='correlated')\n",
    "plt.xlabel('# of patterns')\n",
    "plt.ylabel('retrieval probability')\n",
    "plt.legend()\n",
    "sns.despine()\n",
    "plt.subplot(1,2,2)\n",
    "plt.plot(N_PATTERNS,mo_rand,label='random')\n",
    "plt.plot(N_PATTERNS,mo_corr,label='correlated')\n",
    "plt.xlabel('# of patterns')\n",
    "plt.ylabel('steady-state coherence')\n",
    "plt.legend()\n",
    "sns.despine()\n",
    "plt.tight_layout()\n",
    "#plt.fill_between(N_PATTERNS,mean_ov-std_ov,mean_ov+std_ov,alpha=0.3)"
   ]
  }
 ],
 "metadata": {
  "kernelspec": {
   "display_name": "Python 3.8.8 ('base')",
   "language": "python",
   "name": "python3"
  },
  "language_info": {
   "codemirror_mode": {
    "name": "ipython",
    "version": 3
   },
   "file_extension": ".py",
   "mimetype": "text/x-python",
   "name": "python",
   "nbconvert_exporter": "python",
   "pygments_lexer": "ipython3",
   "version": "3.8.8"
  },
  "orig_nbformat": 4,
  "vscode": {
   "interpreter": {
    "hash": "ec757111aa82fc412dab5a41ba1a33fdb6db5c8112df3ff06fec0dbff050b412"
   }
  }
 },
 "nbformat": 4,
 "nbformat_minor": 2
}
